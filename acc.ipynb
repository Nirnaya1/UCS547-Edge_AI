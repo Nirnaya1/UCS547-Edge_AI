{
 "cells": [
  {
   "cell_type": "code",
   "execution_count": 7,
   "metadata": {},
   "outputs": [
    {
     "name": "stdout",
     "output_type": "stream",
     "text": [
      "0.004704713821411133\n"
     ]
    }
   ],
   "source": [
    "import numpy\n",
    "from time import time\n",
    "\n",
    "\n",
    "def filter2D(image,filt):\n",
    "    M,N=image.shape\n",
    "    Mf,Nf=filt.shape\n",
    "    Mf2=Mf//2\n",
    "    Nf2=Nf//2\n",
    "    result=numpy.zeros_like(image)\n",
    "    for i in range(Mf2,M-Mf2):\n",
    "        for j in range(Nf2,N-Nf2):\n",
    "            num=0.0\n",
    "            t=image[i-Mf2:i+Mf2+1,j-Nf2:j+Nf2+1]\n",
    "            num=numpy.sum(numpy.multiply(t,filt))\n",
    "\n",
    "            result[i,j]=num\n",
    "    return result\n",
    "\n",
    "from numba import double,jit\n",
    "\n",
    "fastfilter2D=jit(double[:,:](double[:,:],double[:,:]))(filter2D)\n",
    "#new_func_name=jit(return_type(par1_type,par2_type))(old_func_name)\n",
    "                 \n",
    "tic=time()\n",
    "image=numpy.random.random((100,100))\n",
    "filt=numpy.random.random((9,9))\n",
    "res=fastfilter2D(image,filt)\n",
    "toc=time()\n",
    "print(toc-tic)"
   ]
  },
  {
   "cell_type": "code",
   "execution_count": 8,
   "metadata": {},
   "outputs": [
    {
     "name": "stdout",
     "output_type": "stream",
     "text": [
      "0.002418994903564453\n"
     ]
    }
   ],
   "source": [
    "import numpy\n",
    "from time import time\n",
    "\n",
    "def filter2d(image, filt):\n",
    "    M,N = image.shape\n",
    "    Mf, Nf = filt.shape\n",
    "    Mf2 = Mf//2\n",
    "    Nf2=Nf//2\n",
    "    result= numpy.zeros_like(image)\n",
    "\n",
    "    for i in range (Mf2, M-Mf2):\n",
    "        for j in range (Nf, N-Nf2):\n",
    "            num = 0.0\n",
    "\n",
    "            for ii in range(Mf):\n",
    "                for jj in range(Nf):\n",
    "                    num+=(filt[Mf-1-ii, Nf-1-jj] * image[i-Mf2+ii, j-Nf2+jj])\n",
    "           # t= image[i-Mf2:i+Mf2+1, j-Nf2:j+Nf2+1]\n",
    "            #num=numpy.sum(numpy.multiply(t,filt))\n",
    "    \n",
    "            result[i, j]=num\n",
    "    return result\n",
    "\n",
    "from numba import double, jit\n",
    "\n",
    "fast_filter2d = jit(double[:,:](double[:,:], double[:,:]))(filter2d)\n",
    "\n",
    "tic=time()\n",
    "image=numpy.random.random((100,100))\n",
    "\n",
    "filt=numpy.random.random((9,9))\n",
    "\n",
    "res= fast_filter2d(image, filt)\n",
    "\n",
    "toc=time()\n",
    "print(toc-tic)\n",
    "\n",
    "# new_func_name= jit(return_type(par1_type, par2_type))(old_func_name)"
   ]
  },
  {
   "cell_type": "code",
   "execution_count": 8,
   "metadata": {},
   "outputs": [
    {
     "name": "stdout",
     "output_type": "stream",
     "text": [
      "0.024106979370117188\n",
      "0.0011849403381347656\n"
     ]
    }
   ],
   "source": [
    "from numba import jit,njit,prange\n",
    "import numpy\n",
    "from time import time\n",
    "\n",
    "a=numpy.random.random((10000,1))\n",
    "b=numpy.random.random((10000,1))\n",
    "\n",
    "def call_method(a,b):\n",
    "  c=numpy.zeros_like(a)\n",
    "  for i in range(len(a)):\n",
    "    c[i]=a[i]+b[i]\n",
    "  return c\n",
    "\n",
    "c=call_method(a,b)\n",
    "tic=time()\n",
    "c=call_method(a,b)\n",
    "toc=time()\n",
    "print(toc-tic)\n",
    "\n",
    "\n",
    "\n",
    "@njit\n",
    "def call_method_njit(a,b):\n",
    "  c=numpy.zeros_like(a)\n",
    "  for i in range(len(a)):\n",
    "    c[i]=a[i]+b[i]\n",
    "  return c\n",
    "\n",
    "c=call_method_njit(a,b)\n",
    "tic=time()\n",
    "c=call_method_njit(a,b)\n",
    "toc=time()\n",
    "print(toc-tic)"
   ]
  },
  {
   "cell_type": "code",
   "execution_count": 8,
   "metadata": {},
   "outputs": [
    {
     "name": "stdout",
     "output_type": "stream",
     "text": [
      "Parellel 0.024821043014526367\n",
      "[4974.20845105]\n",
      "vectorize 8.249282836914062e-05\n"
     ]
    }
   ],
   "source": [
    "from numba import jit,njit,prange,vectorize,float64\n",
    "import numpy as np\n",
    "from time import time\n",
    "\n",
    "a=np.random.random((10000,1))\n",
    "b=np.random.random((10000,1))\n",
    "\n",
    "def call_method(a,b):\n",
    "    c=np.zeros_like(a)\n",
    "    for i in range(a.shape[0]):\n",
    "        c[i]=a[i]+b[i]\n",
    "    return c\n",
    "    \n",
    "tic=time()\n",
    "c=call_method(a,b)\n",
    "toc=time()\n",
    "print(\"Parellel\",toc-tic)\n",
    " \n",
    "@vectorize([float64(float64,float64)])\n",
    "def f(x,y):\n",
    "    return x+y\n",
    "    \n",
    "c=f(a,b)\n",
    "tic=time()\n",
    "c=f(a,b)\n",
    "toc=time()\n",
    "print(f.reduce(a,axis=0))\n",
    "print(\"vectorize\",toc-tic)"
   ]
  },
  {
   "cell_type": "code",
   "execution_count": null,
   "metadata": {},
   "outputs": [],
   "source": []
  },
  {
   "cell_type": "code",
   "execution_count": 1,
   "metadata": {},
   "outputs": [
    {
     "name": "stderr",
     "output_type": "stream",
     "text": [
      "[ WARN:0@0.021] global loadsave.cpp:241 findDecoder imread_('dark.jpeg'): can't open/read file: check file path/integrity\n"
     ]
    },
    {
     "ename": "error",
     "evalue": "OpenCV(4.10.0) /croot/opencv-suite_1722029125240/work/modules/core/src/lut.cpp:366: error: (-215:Assertion failed) (lutcn == cn || lutcn == 1) && _lut.total() == 256 && _lut.isContinuous() && (depth == CV_8U || depth == CV_8S) in function 'LUT'\n",
     "output_type": "error",
     "traceback": [
      "\u001b[0;31m---------------------------------------------------------------------------\u001b[0m",
      "\u001b[0;31merror\u001b[0m                                     Traceback (most recent call last)",
      "Cell \u001b[0;32mIn[1], line 27\u001b[0m\n\u001b[1;32m     24\u001b[0m     \u001b[38;5;28;01mreturn\u001b[39;00m image\u001b[38;5;241m*\u001b[39mfactor\n\u001b[1;32m     26\u001b[0m i\u001b[38;5;241m=\u001b[39mcv2\u001b[38;5;241m.\u001b[39mimread(\u001b[38;5;124m'\u001b[39m\u001b[38;5;124mdark.jpeg\u001b[39m\u001b[38;5;124m'\u001b[39m)\n\u001b[0;32m---> 27\u001b[0m i_corr1\u001b[38;5;241m=\u001b[39mgamma_corr(\u001b[38;5;241m1\u001b[39m,\u001b[38;5;241m0.5\u001b[39m)\n\u001b[1;32m     28\u001b[0m i_corr2\u001b[38;5;241m=\u001b[39mlog_transform(\u001b[38;5;241m1\u001b[39m,\u001b[38;5;241m1.5\u001b[39m)\n\u001b[1;32m     30\u001b[0m cv2\u001b[38;5;241m.\u001b[39mimshow(\u001b[38;5;124m'\u001b[39m\u001b[38;5;124morig\u001b[39m\u001b[38;5;124m'\u001b[39m,i)\n",
      "Cell \u001b[0;32mIn[1], line 11\u001b[0m, in \u001b[0;36mgamma_corr\u001b[0;34m(image, gamma)\u001b[0m\n\u001b[1;32m      9\u001b[0m table \u001b[38;5;241m=\u001b[39m np\u001b[38;5;241m.\u001b[39marray([((\u001b[38;5;241m1\u001b[39m\u001b[38;5;241m/\u001b[39m\u001b[38;5;241m255.0\u001b[39m) \u001b[38;5;241m*\u001b[39m invGamma)\u001b[38;5;241m*\u001b[39m\u001b[38;5;241m255\u001b[39m \u001b[38;5;28;01mfor\u001b[39;00m i \u001b[38;5;129;01min\u001b[39;00m np\u001b[38;5;241m.\u001b[39marange(\u001b[38;5;241m0\u001b[39m, \u001b[38;5;241m256\u001b[39m)])\u001b[38;5;241m.\u001b[39mastype(\u001b[38;5;124m\"\u001b[39m\u001b[38;5;124muint8\u001b[39m\u001b[38;5;124m\"\u001b[39m)\n\u001b[1;32m     10\u001b[0m \u001b[38;5;66;03m#apply gamma correction using the lookup table\u001b[39;00m\n\u001b[0;32m---> 11\u001b[0m \u001b[38;5;28;01mreturn\u001b[39;00m cv2\u001b[38;5;241m.\u001b[39mLUT (image, table)\n",
      "\u001b[0;31merror\u001b[0m: OpenCV(4.10.0) /croot/opencv-suite_1722029125240/work/modules/core/src/lut.cpp:366: error: (-215:Assertion failed) (lutcn == cn || lutcn == 1) && _lut.total() == 256 && _lut.isContinuous() && (depth == CV_8U || depth == CV_8S) in function 'LUT'\n"
     ]
    }
   ],
   "source": [
    "import numpy as np\n",
    "\n",
    "import cv2\n",
    "\n",
    "#gamma->image^gamma\n",
    "\n",
    "def gamma_corr(image,gamma):\n",
    "    invGamma = 1.0/gamma\n",
    "    table = np.array([((1/255.0) * invGamma)*255 for i in np.arange(0, 256)]).astype(\"uint8\")\n",
    "    #apply gamma correction using the lookup table\n",
    "    return cv2.LUT (image, table)\n",
    "\n",
    "def log_transform(image,c):\n",
    "    #c*log(image+ 1)....apply 0-255 back and forth\n",
    "    table = np.array([(np.log((1/255.0)+1)*c)*255 for i in np.arange(0, 256)]).astype(\"uint8\") \n",
    "    return cv2.LUT (image, table)\n",
    "\n",
    "def img_add(image, factor):\n",
    "    #apply normalization 0-255 after addition \n",
    "    return image+factor\n",
    "\n",
    "def img_mul(image, factor):  #changes contrast\n",
    "    #apply normalization 0-255 after multiplication \n",
    "    return image*factor\n",
    "\n",
    "i=cv2.imread('dark.jpeg')\n",
    "i_corr1=gamma_corr(1,0.5)\n",
    "i_corr2=log_transform(1,1.5)\n",
    "\n",
    "cv2.imshow('orig',i)\n",
    "cv2.waitKey(0)"
   ]
  },
  {
   "cell_type": "code",
   "execution_count": 1,
   "metadata": {},
   "outputs": [
    {
     "ename": "ModuleNotFoundError",
     "evalue": "No module named 'imutils'",
     "output_type": "error",
     "traceback": [
      "\u001b[0;31m---------------------------------------------------------------------------\u001b[0m",
      "\u001b[0;31mModuleNotFoundError\u001b[0m                       Traceback (most recent call last)",
      "Cell \u001b[0;32mIn[1], line 4\u001b[0m\n\u001b[1;32m      1\u001b[0m \u001b[38;5;66;03m#reading single dark image and generating multiple images from that\u001b[39;00m\n\u001b[1;32m      2\u001b[0m \u001b[38;5;66;03m#augmentation\u001b[39;00m\n\u001b[0;32m----> 4\u001b[0m \u001b[38;5;28;01mimport\u001b[39;00m \u001b[38;5;21;01mimutils\u001b[39;00m\n\u001b[1;32m      5\u001b[0m \u001b[38;5;28;01mimport\u001b[39;00m \u001b[38;5;21;01mcv2\u001b[39;00m\n\u001b[1;32m      6\u001b[0m \u001b[38;5;28;01mimport\u001b[39;00m \u001b[38;5;21;01mnumpy\u001b[39;00m \u001b[38;5;28;01mas\u001b[39;00m \u001b[38;5;21;01mnp\u001b[39;00m\n",
      "\u001b[0;31mModuleNotFoundError\u001b[0m: No module named 'imutils'"
     ]
    }
   ],
   "source": [
    "#reading single dark image and generating multiple images from that\n",
    "#augmentation\n",
    "\n",
    "import imutils\n",
    "import cv2\n",
    "import numpy as np\n",
    "\n",
    "i=cv2.imread('dark.jpeg')\n",
    "alpha=1.04\n",
    "c=1\n",
    "for beta in range(25):\n",
    "  new_image=cv2.convertScaleAbs(i,alpha=alpha,beta=beta)\n",
    "  cv2.imwrite('aug/'+str(c)+'.jpg',new_image)\n",
    "  c=c+1\n",
    "\n",
    "ii=1\n",
    "for r in np.linspcae(-10,10,91):\n",
    "  rotated=imutils.rotate_bound(i,r)\n",
    "  cv2.imwrite('aug/r'+str*ii+'.jpg',rotated)\n",
    "  ii=ii+1"
   ]
  },
  {
   "cell_type": "code",
   "execution_count": 1,
   "metadata": {},
   "outputs": [
    {
     "name": "stdout",
     "output_type": "stream",
     "text": [
      "Channels:\n",
      " - defaults\n",
      "Platform: linux-64\n",
      "Collecting package metadata (repodata.json): done\n",
      "Solving environment: failed\n",
      "\n",
      "PackagesNotFoundError: The following packages are not available from current channels:\n",
      "\n",
      "  - imutils\n",
      "\n",
      "Current channels:\n",
      "\n",
      "  - defaults\n",
      "\n",
      "To search for alternate channels that may provide the conda package you're\n",
      "looking for, navigate to\n",
      "\n",
      "    https://anaconda.org\n",
      "\n",
      "and use the search bar at the top of the page.\n",
      "\n",
      "\n",
      "\n",
      "Note: you may need to restart the kernel to use updated packages.\n"
     ]
    }
   ],
   "source": [
    "conda install imutils"
   ]
  },
  {
   "cell_type": "code",
   "execution_count": 5,
   "metadata": {},
   "outputs": [
    {
     "name": "stdout",
     "output_type": "stream",
     "text": [
      "0.7282314300537109\n"
     ]
    }
   ],
   "source": [
    "import cv2\n",
    "import numpy\n",
    "from time import time\n",
    "\n",
    "image=\"/home/nirnaya/Desktop/Edge AI/annotation_app/images/aachen_000005_000019_leftImg8bit_foggy_beta_0.02_fake_0.png\"\n",
    "\n",
    "def filter2D(image,filt):\n",
    "    M,N=image.shape\n",
    "    Mf,Nf=filt.shape\n",
    "    Mf2=Mf//2\n",
    "    Nf2=Nf//2\n",
    "    result=numpy.zeros_like(image)\n",
    "    for i in range(Mf2,M-Mf2):\n",
    "        for j in range(Nf2,N-Nf2):\n",
    "            num=0.0\n",
    "            t=image[i-Mf2:i+Mf2+1,j-Nf2:j+Nf2+1]\n",
    "            num=numpy.sum(numpy.multiply(t,filt))\n",
    "\n",
    "            result[i,j]=num\n",
    "    return result\n",
    "\n",
    "from numba import double,jit\n",
    "\n",
    "fastfilter2D=jit(double[:,:](double[:,:],double[:,:]))(filter2D)\n",
    "#new_func_name=jit(return_type(par1_type,par2_type))(old_func_name)\n",
    "                 \n",
    "tic=time()\n",
    "image=cv2.imread(image,cv2.IMREAD_GRAYSCALE)\n",
    "b_filt=numpy.array([[1/9,1/9,1/9],\n",
    "                  [1/9,1/9,1/9],\n",
    "                  [1/9,1/9,1/9]],dtype=numpy.float64)\n",
    "filt=numpy.array([[1,0,-1],\n",
    "                  [2,0,-2],\n",
    "                  [1,0,-1]],dtype=numpy.float64)\n",
    "filt2=numpy.array([[1,2,1],\n",
    "                  [0,0,0],\n",
    "                  [-1,-2,-1]],dtype=numpy.float64)\n",
    "image=fastfilter2D(image.astype(numpy.float64),b_filt)\n",
    "res=fastfilter2D(image.astype(numpy.float64),filt)\n",
    "res2=fastfilter2D(image.astype(numpy.float64),filt2)\n",
    "res_f=res+res2\n",
    "toc=time()\n",
    "cv2.imshow(\"output\",res_f.astype(numpy.uint8))\n",
    "cv2.waitKey(0)\n",
    "cv2.destroyAllWindows()\n",
    "print(toc-tic)"
   ]
  },
  {
   "cell_type": "code",
   "execution_count": 12,
   "metadata": {},
   "outputs": [
    {
     "name": "stdout",
     "output_type": "stream",
     "text": [
      "[(24.61514841351078, 42.01163779925295), (194.16545481130944, 14.280310784404946), (53.80601895545604, 173.1272979834904), (259.11514176713763, 128.12470589799148)]\n"
     ]
    }
   ],
   "source": [
    "import numpy as np\n",
    "import cv2\n",
    "import matplotlib.pyplot as plt\n",
    "import matplotlib\n",
    "matplotlib.use('TkAgg')\n",
    "\n",
    "image_path=\"/home/nirnaya/Desktop/Edge AI/face_detector/res/images.jpeg\"\n",
    "\n",
    "img=cv2.imread(image_path)\n",
    "rows,cols,ch=img.shape\n",
    "\n",
    "plt.imshow(img)\n",
    "x=plt.ginput(4)\n",
    "print(x)\n",
    "plt.show()\n",
    "\n",
    "pts1=np.float32([x[0],x[1],x[2],x[3]])\n",
    "pts2=np.float32([[0,0],[cols,0],[0,rows],[cols,rows]])\n",
    "\n",
    "M=cv2.getPerspectiveTransform(pts1,pts2)\n",
    "dst=cv2.warpPerspective(img,M,(cols,rows))\n",
    "\n",
    "plt.subplot(121),plt.imshow(img),plt.title('Input')\n",
    "plt.subplot(122),plt.imshow(dst),plt.title('Output')\n",
    "plt.show()"
   ]
  },
  {
   "cell_type": "code",
   "execution_count": 11,
   "metadata": {},
   "outputs": [
    {
     "name": "stdout",
     "output_type": "stream",
     "text": [
      "Selected points: [(25.344920177059407, 42.74140956280158), (194.65196932034186, 13.55053902085632), (54.779047973520875, 172.64078347445798), (258.1421127490728, 129.34099217057252)]\n"
     ]
    }
   ],
   "source": [
    "import numpy as np\n",
    "import cv2\n",
    "import matplotlib.pyplot as plt\n",
    "import matplotlib\n",
    "matplotlib.use('TkAgg')  # Use TkAgg for interactive plotting\n",
    "\n",
    "# Path to your image\n",
    "image_path = \"/home/nirnaya/Desktop/Edge AI/face_detector/res/images.jpeg\"\n",
    "\n",
    "# Read the image\n",
    "img = cv2.imread(image_path)\n",
    "img_rgb = cv2.cvtColor(img, cv2.COLOR_BGR2RGB)  # Convert to RGB for matplotlib\n",
    "\n",
    "# Get image dimensions\n",
    "rows, cols, ch = img.shape\n",
    "\n",
    "# Display the image and get 4 points from the user\n",
    "plt.imshow(img_rgb)\n",
    "plt.title('Select four points')\n",
    "x = plt.ginput(4)  # Get four points\n",
    "plt.close()  # Close the plot window\n",
    "\n",
    "print(f\"Selected points: {x}\")\n",
    "\n",
    "# Convert the points into a format suitable for cv2.getPerspectiveTransform\n",
    "# The points are in the format (x, y) but OpenCV expects (x, y) for the source points and destination points\n",
    "pts1 = np.float32(x)  # Source points\n",
    "pts2 = np.float32([[0, 0], [cols, 0], [0, rows], [cols, rows]])  # Destination points\n",
    "\n",
    "# Compute the perspective transformation matrix\n",
    "M = cv2.getPerspectiveTransform(pts1, pts2)\n",
    "\n",
    "# Apply the perspective transformation\n",
    "dst = cv2.warpPerspective(img, M, (cols, rows))\n",
    "\n",
    "# Display the results\n",
    "plt.figure(figsize=(10, 5))\n",
    "plt.subplot(121), plt.imshow(img_rgb), plt.title('Input')\n",
    "plt.subplot(122), plt.imshow(cv2.cvtColor(dst, cv2.COLOR_BGR2RGB)), plt.title('Output')\n",
    "plt.show()\n"
   ]
  },
  {
   "cell_type": "code",
   "execution_count": null,
   "metadata": {},
   "outputs": [],
   "source": []
  }
 ],
 "metadata": {
  "kernelspec": {
   "display_name": "Python 3 (ipykernel)",
   "language": "python",
   "name": "python3"
  },
  "language_info": {
   "codemirror_mode": {
    "name": "ipython",
    "version": 3
   },
   "file_extension": ".py",
   "mimetype": "text/x-python",
   "name": "python",
   "nbconvert_exporter": "python",
   "pygments_lexer": "ipython3",
   "version": "3.12.4"
  }
 },
 "nbformat": 4,
 "nbformat_minor": 4
}
